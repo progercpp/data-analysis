{
  "nbformat": 4,
  "nbformat_minor": 0,
  "metadata": {
    "colab": {
      "provenance": []
    },
    "kernelspec": {
      "name": "python3",
      "display_name": "Python 3"
    },
    "language_info": {
      "name": "python"
    }
  },
  "cells": [
    {
      "cell_type": "markdown",
      "metadata": {
        "id": "RngKMAelr3-Q"
      },
      "source": [
        "<small><font color=gray>Авторы соревнования: <a href=\"https://www.hse.ru/org/persons/223985242\" target=\"_blank\">Алексей Болдырев</a>, <a href=\"https://www.hse.ru/staff/mekarpov\" target=\"_blank\">Максим Карпов</a>, <a href=\"https://www.hse.ru/staff/ramazyant\" target=\"_blank\">Тигран Рамазян</a>, <a href=\"https://www.linkedin.com/in/olegmelnikov/\" target=\"_blank\">Олег Мельников</a> ©2024</font></small><hr style=\"margin:0;background-color:silver\">\n",
        "\n",
        "\n",
        "**[<font size=6>🔢Какая цифра?</font>](https://www.kaggle.com/competitions/whatsthenumber)**."
      ]
    },
    {
      "cell_type": "code",
      "metadata": {
        "id": "4my9eMCZqp2y"
      },
      "source": [
        "%reset -f\n",
        "from IPython.core.interactiveshell import InteractiveShell as IS; IS.ast_node_interactivity = \"all\"\n",
        "import pandas as pd, numpy as np, matplotlib.pyplot as plt, time\n",
        "from sklearn.linear_model import LogisticRegression\n",
        "from sklearn.neighbors import KNeighborsClassifier\n",
        "from sklearn.model_selection import train_test_split\n",
        "import numpy as np\n",
        "import matplotlib.pyplot as plt\n",
        "import seaborn as sns\n",
        "from sklearn import svm\n",
        "from sklearn.neighbors import KNeighborsClassifier\n",
        "from sklearn.linear_model import LogisticRegression\n",
        "from sklearn.ensemble import RandomForestClassifier\n",
        "import warnings\n",
        "warnings.filterwarnings(\"ignore\")\n",
        "RunTimeLimit, t0 = 120, time.time() # ограничение по времени работы вашей модели и время начала работы\n",
        "np.set_printoptions(linewidth=10000, precision=4, edgeitems=20, suppress=True)\n",
        "\n",
        "rng = np.random.RandomState(6)\n",
        "\n",
        "class Timer():\n",
        "  def __init__(self, lim:'RunTimeLimit'=120): self.t0, self.lim, _ = time.time(), lim, print(f'отсчет ⏳ начался. У вашей модели есть только {lim} секунд. Удачи!')\n",
        "  def ShowTime(self):\n",
        "    msg = f'Время выполнения {time.time()-self.t0:.0f} с'\n",
        "    print(f'\\033[91m\\033[1m' + msg + f' > {self.lim} секунд на предельное время выполнения!!!\\033[0m' if (time.time()-self.t0-1) > self.lim else msg)\n",
        "\n",
        "pd.set_option('display.max_rows', 100, 'display.max_columns', 100, 'display.max_colwidth', 100, 'display.precision', 2, 'display.max_rows', 4)\n",
        "\n",
        "sFile = 'https://github.com/afonsky/DataAnalysisSummerSchool-2024/raw/main/trainYX.zip'\n",
        "x_train = pd.read_csv(sFile, compression='zip', index_col='id')\n",
        "vse_otveti = pd.DataFrame(x_train['y'])\n",
        "x_train = x_train.drop('y', axis=1)\n",
        "# train, test, otvet, otvet1 = train_test_split(x_train, vse_otveti, test_size= 0.1 , random_state= rng)\n"
      ],
      "execution_count": null,
      "outputs": []
    },
    {
      "cell_type": "markdown",
      "metadata": {
        "id": "tgNTf-mgrmGI"
      },
      "source": [
        "В этом тестовом файле не хватает столбца с метками цифр, которые вам нужно предсказать."
      ]
    },
    {
      "cell_type": "code",
      "metadata": {
        "id": "Yvju2bHxrPaW"
      },
      "source": [
        "x_test = pd.read_csv('https://github.com/afonsky/DataAnalysisSummerSchool-2024/raw/main/testX.zip', compression='zip', index_col='id')\n"
      ],
      "execution_count": null,
      "outputs": []
    },
    {
      "cell_type": "code",
      "source": [
        "tmr = Timer()"
      ],
      "metadata": {
        "id": "XcL6sCMUTTAL",
        "colab": {
          "base_uri": "https://localhost:8080/"
        },
        "outputId": "31f5f6d4-b13a-4a6f-ba99-e4deac43f090"
      },
      "execution_count": null,
      "outputs": [
        {
          "output_type": "stream",
          "name": "stdout",
          "text": [
            "отсчет ⏳ начался. У вашей модели есть только 120 секунд. Удачи!\n"
          ]
        }
      ]
    },
    {
      "cell_type": "markdown",
      "source": [
        "<hr color=green size=40>\n",
        "\n",
        "<font size=5>⏳</font> <strong><font color=green size=5>Ваш код, документация, идеи и отсчет времени - все записывается здесь...</font></strong>\n",
        "\n",
        "<font color=green> **Раздел для участников соревнования** (между символами ⏳): добавьте сюда свой код и документацию."
      ],
      "metadata": {
        "id": "_MPlcR1YSIY9"
      }
    },
    {
      "cell_type": "markdown",
      "metadata": {
        "id": "OpyLNt3god0c"
      },
      "source": [
        "## **Задача 1. Система предварительной обработки**\n",
        "\n",
        "Объясните элементы вашей системы предварительной обработки, т.е. обработку признаков, создание подвыборок, кластеризацию, уменьшение размерности и т. д.\n",
        "1. Почему вы выбрали эти элементы? (Что-то в разведочном анализе, подсказал предыдущий опыт...?)\n",
        "1. Как вы оцениваете эффективность этих элементов?\n",
        "1. Что еще вы пробовали, что сработало или не сработало?"
      ]
    },
    {
      "cell_type": "markdown",
      "metadata": {
        "id": "30xYIFXAnaPE"
      },
      "source": [
        "**Ответ участника:**"
      ]
    },
    {
      "cell_type": "code",
      "source": [
        "\n",
        "# обработка изображения:\n",
        "# фильтр, подбирающий цвет пикселя,\n",
        "# исходя из его соседей\n",
        "def average_filter(train):\n",
        "  median_train = train\n",
        "  for x in range(len(median_train)):\n",
        "    for i in range(1, 32 - 1):\n",
        "      for j in range(1, 32 - 1):\n",
        "        arr = []\n",
        "        for i1 in range(i - 1, i + 2):\n",
        "          for j1 in range(j - 1, j + 2):\n",
        "            arr.append(train[x][i1 * 32 + j1])\n",
        "        median_train[x][i * 32 + j] = sum(arr) // len(arr)\n",
        "  return median_train\n"
      ],
      "metadata": {
        "id": "HHguBgJM2P6y"
      },
      "execution_count": null,
      "outputs": []
    },
    {
      "cell_type": "code",
      "source": [
        "x_train = x_train.to_numpy()\n",
        "vse_otveti = vse_otveti.to_numpy()\n",
        "x_test = x_test.to_numpy()"
      ],
      "metadata": {
        "id": "OuDeKp66od0-"
      },
      "execution_count": null,
      "outputs": []
    },
    {
      "cell_type": "code",
      "source": [
        "x_train = average_filter(x_train)"
      ],
      "metadata": {
        "id": "uwz7wxrZd5wW"
      },
      "execution_count": null,
      "outputs": []
    },
    {
      "cell_type": "markdown",
      "metadata": {
        "id": "KGJRwzqHob4o"
      },
      "source": [
        "## **Задание 2. Подход к моделированию**\n",
        "Объясните свой подход к моделированию, то есть идеи, которые вы пробовали и почему считали их полезными.\n",
        "\n",
        "1. Как эти решения помогали вам в моделировании?\n",
        "1. Как вы оцениваете эффективность этих элементов?\n",
        "1. Что еще вы пробовали, что сработало или не сработало?"
      ]
    },
    {
      "cell_type": "markdown",
      "metadata": {
        "id": "zi6ZjgtWnb58"
      },
      "source": [
        "**Ответ участника:**"
      ]
    },
    {
      "cell_type": "code",
      "metadata": {
        "id": "1xTkZKhMTo3x",
        "colab": {
          "base_uri": "https://localhost:8080/",
          "height": 74
        },
        "outputId": "2c1988cb-fd71-4395-a9bf-4ed60231ce86"
      },
      "source": [
        "# используется метод к ближайших соседей\n",
        "knn = KNeighborsClassifier(n_neighbors=5)\n",
        "knn.fit(x_train, vse_otveti)\n",
        "x = knn.predict(x_test)\n",
        "df = pd.DataFrame({'id': range(5000, 5000+len(x)), 'y': x})\n",
        "df.to_csv('predictions.csv', index=False)\n"
      ],
      "execution_count": null,
      "outputs": [
        {
          "output_type": "execute_result",
          "data": {
            "text/plain": [
              "KNeighborsClassifier()"
            ],
            "text/html": [
              "<style>#sk-container-id-15 {color: black;background-color: white;}#sk-container-id-15 pre{padding: 0;}#sk-container-id-15 div.sk-toggleable {background-color: white;}#sk-container-id-15 label.sk-toggleable__label {cursor: pointer;display: block;width: 100%;margin-bottom: 0;padding: 0.3em;box-sizing: border-box;text-align: center;}#sk-container-id-15 label.sk-toggleable__label-arrow:before {content: \"▸\";float: left;margin-right: 0.25em;color: #696969;}#sk-container-id-15 label.sk-toggleable__label-arrow:hover:before {color: black;}#sk-container-id-15 div.sk-estimator:hover label.sk-toggleable__label-arrow:before {color: black;}#sk-container-id-15 div.sk-toggleable__content {max-height: 0;max-width: 0;overflow: hidden;text-align: left;background-color: #f0f8ff;}#sk-container-id-15 div.sk-toggleable__content pre {margin: 0.2em;color: black;border-radius: 0.25em;background-color: #f0f8ff;}#sk-container-id-15 input.sk-toggleable__control:checked~div.sk-toggleable__content {max-height: 200px;max-width: 100%;overflow: auto;}#sk-container-id-15 input.sk-toggleable__control:checked~label.sk-toggleable__label-arrow:before {content: \"▾\";}#sk-container-id-15 div.sk-estimator input.sk-toggleable__control:checked~label.sk-toggleable__label {background-color: #d4ebff;}#sk-container-id-15 div.sk-label input.sk-toggleable__control:checked~label.sk-toggleable__label {background-color: #d4ebff;}#sk-container-id-15 input.sk-hidden--visually {border: 0;clip: rect(1px 1px 1px 1px);clip: rect(1px, 1px, 1px, 1px);height: 1px;margin: -1px;overflow: hidden;padding: 0;position: absolute;width: 1px;}#sk-container-id-15 div.sk-estimator {font-family: monospace;background-color: #f0f8ff;border: 1px dotted black;border-radius: 0.25em;box-sizing: border-box;margin-bottom: 0.5em;}#sk-container-id-15 div.sk-estimator:hover {background-color: #d4ebff;}#sk-container-id-15 div.sk-parallel-item::after {content: \"\";width: 100%;border-bottom: 1px solid gray;flex-grow: 1;}#sk-container-id-15 div.sk-label:hover label.sk-toggleable__label {background-color: #d4ebff;}#sk-container-id-15 div.sk-serial::before {content: \"\";position: absolute;border-left: 1px solid gray;box-sizing: border-box;top: 0;bottom: 0;left: 50%;z-index: 0;}#sk-container-id-15 div.sk-serial {display: flex;flex-direction: column;align-items: center;background-color: white;padding-right: 0.2em;padding-left: 0.2em;position: relative;}#sk-container-id-15 div.sk-item {position: relative;z-index: 1;}#sk-container-id-15 div.sk-parallel {display: flex;align-items: stretch;justify-content: center;background-color: white;position: relative;}#sk-container-id-15 div.sk-item::before, #sk-container-id-15 div.sk-parallel-item::before {content: \"\";position: absolute;border-left: 1px solid gray;box-sizing: border-box;top: 0;bottom: 0;left: 50%;z-index: -1;}#sk-container-id-15 div.sk-parallel-item {display: flex;flex-direction: column;z-index: 1;position: relative;background-color: white;}#sk-container-id-15 div.sk-parallel-item:first-child::after {align-self: flex-end;width: 50%;}#sk-container-id-15 div.sk-parallel-item:last-child::after {align-self: flex-start;width: 50%;}#sk-container-id-15 div.sk-parallel-item:only-child::after {width: 0;}#sk-container-id-15 div.sk-dashed-wrapped {border: 1px dashed gray;margin: 0 0.4em 0.5em 0.4em;box-sizing: border-box;padding-bottom: 0.4em;background-color: white;}#sk-container-id-15 div.sk-label label {font-family: monospace;font-weight: bold;display: inline-block;line-height: 1.2em;}#sk-container-id-15 div.sk-label-container {text-align: center;}#sk-container-id-15 div.sk-container {/* jupyter's `normalize.less` sets `[hidden] { display: none; }` but bootstrap.min.css set `[hidden] { display: none !important; }` so we also need the `!important` here to be able to override the default hidden behavior on the sphinx rendered scikit-learn.org. See: https://github.com/scikit-learn/scikit-learn/issues/21755 */display: inline-block !important;position: relative;}#sk-container-id-15 div.sk-text-repr-fallback {display: none;}</style><div id=\"sk-container-id-15\" class=\"sk-top-container\"><div class=\"sk-text-repr-fallback\"><pre>KNeighborsClassifier()</pre><b>In a Jupyter environment, please rerun this cell to show the HTML representation or trust the notebook. <br />On GitHub, the HTML representation is unable to render, please try loading this page with nbviewer.org.</b></div><div class=\"sk-container\" hidden><div class=\"sk-item\"><div class=\"sk-estimator sk-toggleable\"><input class=\"sk-toggleable__control sk-hidden--visually\" id=\"sk-estimator-id-15\" type=\"checkbox\" checked><label for=\"sk-estimator-id-15\" class=\"sk-toggleable__label sk-toggleable__label-arrow\">KNeighborsClassifier</label><div class=\"sk-toggleable__content\"><pre>KNeighborsClassifier()</pre></div></div></div></div></div>"
            ]
          },
          "metadata": {},
          "execution_count": 234
        }
      ]
    },
    {
      "cell_type": "markdown",
      "source": [
        "Ссылки:\n"
      ],
      "metadata": {
        "id": "pzBsjCvS_kEw"
      }
    },
    {
      "cell_type": "markdown",
      "source": [
        "* https://en.wikipedia.org/wiki/K-nearest_neighbors_algorithm"
      ],
      "metadata": {
        "id": "2kr8Q-9T_nAb"
      }
    },
    {
      "cell_type": "markdown",
      "source": [
        "<font size=5>⌛</font> <strong><font color=green size=5>Не превышайте ограничение времени, выделенного на работу вашей модели!</font></strong>\n",
        "\n",
        "<hr color=green size=40>\n"
      ],
      "metadata": {
        "id": "DoF2GoB_QGw9"
      }
    },
    {
      "cell_type": "code",
      "source": [
        "tmr.ShowTime()    # Измерьте время работы вашего кода. Не удаляйте этот код. Используйте как последнюю ячейку в тетрадке."
      ],
      "metadata": {
        "id": "bD1sdgYbNWQA",
        "colab": {
          "base_uri": "https://localhost:8080/"
        },
        "outputId": "72237d1d-93ea-4305-e3c4-5a6722664da2"
      },
      "execution_count": null,
      "outputs": [
        {
          "output_type": "stream",
          "name": "stdout",
          "text": [
            "Время выполнения 34 с\n"
          ]
        }
      ]
    }
  ]
}